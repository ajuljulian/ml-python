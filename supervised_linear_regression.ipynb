{
 "cells": [
  {
   "cell_type": "markdown",
   "metadata": {},
   "source": [
    "## Linear Regression Example\n",
    "\n",
    "Data Source: https://www.gapminder.org/data/<br/>\n",
    "\n",
    "The Gapminder data has 10 features per sample (9 numeric, 1 categorical).  We first draw a scatter plot that plots fertility vs. life expectancy based on out training data.  We then fit a linear regression model to predict life expectancy based on fertility.  We plot the predicted line over our scatter plot to visualize it.<br/>\n",
    "\n",
    "Before training a linear regression model using all our features, we need to turn \"Region\" from a categorical attribute to a numerical attribute (linear regression works only with numerical features).  Once we do that, we train a linear regression model using 70% of our samples, then test on the remaining 30%.  We calculate the root mean squared error on the test predictions."
   ]
  },
  {
   "cell_type": "code",
   "execution_count": 1,
   "metadata": {
    "collapsed": true
   },
   "outputs": [],
   "source": [
    "import numpy as np\n",
    "import pandas as pd"
   ]
  },
  {
   "cell_type": "code",
   "execution_count": 2,
   "metadata": {
    "collapsed": true
   },
   "outputs": [],
   "source": [
    "df = pd.read_csv('sample_data/gapminder.csv')"
   ]
  },
  {
   "cell_type": "code",
   "execution_count": 3,
   "metadata": {},
   "outputs": [
    {
     "data": {
      "text/html": [
       "<div>\n",
       "<style>\n",
       "    .dataframe thead tr:only-child th {\n",
       "        text-align: right;\n",
       "    }\n",
       "\n",
       "    .dataframe thead th {\n",
       "        text-align: left;\n",
       "    }\n",
       "\n",
       "    .dataframe tbody tr th {\n",
       "        vertical-align: top;\n",
       "    }\n",
       "</style>\n",
       "<table border=\"1\" class=\"dataframe\">\n",
       "  <thead>\n",
       "    <tr style=\"text-align: right;\">\n",
       "      <th></th>\n",
       "      <th>population</th>\n",
       "      <th>fertility</th>\n",
       "      <th>HIV</th>\n",
       "      <th>CO2</th>\n",
       "      <th>BMI_male</th>\n",
       "      <th>GDP</th>\n",
       "      <th>BMI_female</th>\n",
       "      <th>life</th>\n",
       "      <th>child_mortality</th>\n",
       "    </tr>\n",
       "  </thead>\n",
       "  <tbody>\n",
       "    <tr>\n",
       "      <th>count</th>\n",
       "      <td>1.390000e+02</td>\n",
       "      <td>139.000000</td>\n",
       "      <td>139.000000</td>\n",
       "      <td>139.000000</td>\n",
       "      <td>139.000000</td>\n",
       "      <td>139.000000</td>\n",
       "      <td>139.000000</td>\n",
       "      <td>139.000000</td>\n",
       "      <td>139.000000</td>\n",
       "    </tr>\n",
       "    <tr>\n",
       "      <th>mean</th>\n",
       "      <td>3.549977e+07</td>\n",
       "      <td>3.005108</td>\n",
       "      <td>1.915612</td>\n",
       "      <td>4.459874</td>\n",
       "      <td>24.623054</td>\n",
       "      <td>16638.784173</td>\n",
       "      <td>126.701914</td>\n",
       "      <td>69.602878</td>\n",
       "      <td>45.097122</td>\n",
       "    </tr>\n",
       "    <tr>\n",
       "      <th>std</th>\n",
       "      <td>1.095121e+08</td>\n",
       "      <td>1.615354</td>\n",
       "      <td>4.408974</td>\n",
       "      <td>6.268349</td>\n",
       "      <td>2.209368</td>\n",
       "      <td>19207.299083</td>\n",
       "      <td>4.471997</td>\n",
       "      <td>9.122189</td>\n",
       "      <td>45.724667</td>\n",
       "    </tr>\n",
       "    <tr>\n",
       "      <th>min</th>\n",
       "      <td>2.773150e+05</td>\n",
       "      <td>1.280000</td>\n",
       "      <td>0.060000</td>\n",
       "      <td>0.008618</td>\n",
       "      <td>20.397420</td>\n",
       "      <td>588.000000</td>\n",
       "      <td>117.375500</td>\n",
       "      <td>45.200000</td>\n",
       "      <td>2.700000</td>\n",
       "    </tr>\n",
       "    <tr>\n",
       "      <th>25%</th>\n",
       "      <td>3.752776e+06</td>\n",
       "      <td>1.810000</td>\n",
       "      <td>0.100000</td>\n",
       "      <td>0.496190</td>\n",
       "      <td>22.448135</td>\n",
       "      <td>2899.000000</td>\n",
       "      <td>123.232200</td>\n",
       "      <td>62.200000</td>\n",
       "      <td>8.100000</td>\n",
       "    </tr>\n",
       "    <tr>\n",
       "      <th>50%</th>\n",
       "      <td>9.705130e+06</td>\n",
       "      <td>2.410000</td>\n",
       "      <td>0.400000</td>\n",
       "      <td>2.223796</td>\n",
       "      <td>25.156990</td>\n",
       "      <td>9938.000000</td>\n",
       "      <td>126.519600</td>\n",
       "      <td>72.000000</td>\n",
       "      <td>24.000000</td>\n",
       "    </tr>\n",
       "    <tr>\n",
       "      <th>75%</th>\n",
       "      <td>2.791973e+07</td>\n",
       "      <td>4.095000</td>\n",
       "      <td>1.300000</td>\n",
       "      <td>6.589156</td>\n",
       "      <td>26.497575</td>\n",
       "      <td>23278.500000</td>\n",
       "      <td>130.275900</td>\n",
       "      <td>76.850000</td>\n",
       "      <td>74.200000</td>\n",
       "    </tr>\n",
       "    <tr>\n",
       "      <th>max</th>\n",
       "      <td>1.197070e+09</td>\n",
       "      <td>7.590000</td>\n",
       "      <td>25.900000</td>\n",
       "      <td>48.702062</td>\n",
       "      <td>28.456980</td>\n",
       "      <td>126076.000000</td>\n",
       "      <td>135.492000</td>\n",
       "      <td>82.600000</td>\n",
       "      <td>192.000000</td>\n",
       "    </tr>\n",
       "  </tbody>\n",
       "</table>\n",
       "</div>"
      ],
      "text/plain": [
       "         population   fertility         HIV         CO2    BMI_male  \\\n",
       "count  1.390000e+02  139.000000  139.000000  139.000000  139.000000   \n",
       "mean   3.549977e+07    3.005108    1.915612    4.459874   24.623054   \n",
       "std    1.095121e+08    1.615354    4.408974    6.268349    2.209368   \n",
       "min    2.773150e+05    1.280000    0.060000    0.008618   20.397420   \n",
       "25%    3.752776e+06    1.810000    0.100000    0.496190   22.448135   \n",
       "50%    9.705130e+06    2.410000    0.400000    2.223796   25.156990   \n",
       "75%    2.791973e+07    4.095000    1.300000    6.589156   26.497575   \n",
       "max    1.197070e+09    7.590000   25.900000   48.702062   28.456980   \n",
       "\n",
       "                 GDP  BMI_female        life  child_mortality  \n",
       "count     139.000000  139.000000  139.000000       139.000000  \n",
       "mean    16638.784173  126.701914   69.602878        45.097122  \n",
       "std     19207.299083    4.471997    9.122189        45.724667  \n",
       "min       588.000000  117.375500   45.200000         2.700000  \n",
       "25%      2899.000000  123.232200   62.200000         8.100000  \n",
       "50%      9938.000000  126.519600   72.000000        24.000000  \n",
       "75%     23278.500000  130.275900   76.850000        74.200000  \n",
       "max    126076.000000  135.492000   82.600000       192.000000  "
      ]
     },
     "execution_count": 3,
     "metadata": {},
     "output_type": "execute_result"
    }
   ],
   "source": [
    "df.describe()"
   ]
  },
  {
   "cell_type": "code",
   "execution_count": 4,
   "metadata": {},
   "outputs": [
    {
     "name": "stdout",
     "output_type": "stream",
     "text": [
      "<class 'pandas.core.frame.DataFrame'>\n",
      "RangeIndex: 139 entries, 0 to 138\n",
      "Data columns (total 10 columns):\n",
      "population         139 non-null float64\n",
      "fertility          139 non-null float64\n",
      "HIV                139 non-null float64\n",
      "CO2                139 non-null float64\n",
      "BMI_male           139 non-null float64\n",
      "GDP                139 non-null float64\n",
      "BMI_female         139 non-null float64\n",
      "life               139 non-null float64\n",
      "child_mortality    139 non-null float64\n",
      "Region             139 non-null object\n",
      "dtypes: float64(9), object(1)\n",
      "memory usage: 10.9+ KB\n"
     ]
    }
   ],
   "source": [
    "df.info()"
   ]
  },
  {
   "cell_type": "code",
   "execution_count": 5,
   "metadata": {},
   "outputs": [
    {
     "data": {
      "text/html": [
       "<div>\n",
       "<style>\n",
       "    .dataframe thead tr:only-child th {\n",
       "        text-align: right;\n",
       "    }\n",
       "\n",
       "    .dataframe thead th {\n",
       "        text-align: left;\n",
       "    }\n",
       "\n",
       "    .dataframe tbody tr th {\n",
       "        vertical-align: top;\n",
       "    }\n",
       "</style>\n",
       "<table border=\"1\" class=\"dataframe\">\n",
       "  <thead>\n",
       "    <tr style=\"text-align: right;\">\n",
       "      <th></th>\n",
       "      <th>population</th>\n",
       "      <th>fertility</th>\n",
       "      <th>HIV</th>\n",
       "      <th>CO2</th>\n",
       "      <th>BMI_male</th>\n",
       "      <th>GDP</th>\n",
       "      <th>BMI_female</th>\n",
       "      <th>life</th>\n",
       "      <th>child_mortality</th>\n",
       "      <th>Region</th>\n",
       "    </tr>\n",
       "  </thead>\n",
       "  <tbody>\n",
       "    <tr>\n",
       "      <th>0</th>\n",
       "      <td>34811059.0</td>\n",
       "      <td>2.73</td>\n",
       "      <td>0.1</td>\n",
       "      <td>3.328945</td>\n",
       "      <td>24.59620</td>\n",
       "      <td>12314.0</td>\n",
       "      <td>129.9049</td>\n",
       "      <td>75.3</td>\n",
       "      <td>29.5</td>\n",
       "      <td>Middle East &amp; North Africa</td>\n",
       "    </tr>\n",
       "    <tr>\n",
       "      <th>1</th>\n",
       "      <td>19842251.0</td>\n",
       "      <td>6.43</td>\n",
       "      <td>2.0</td>\n",
       "      <td>1.474353</td>\n",
       "      <td>22.25083</td>\n",
       "      <td>7103.0</td>\n",
       "      <td>130.1247</td>\n",
       "      <td>58.3</td>\n",
       "      <td>192.0</td>\n",
       "      <td>Sub-Saharan Africa</td>\n",
       "    </tr>\n",
       "    <tr>\n",
       "      <th>2</th>\n",
       "      <td>40381860.0</td>\n",
       "      <td>2.24</td>\n",
       "      <td>0.5</td>\n",
       "      <td>4.785170</td>\n",
       "      <td>27.50170</td>\n",
       "      <td>14646.0</td>\n",
       "      <td>118.8915</td>\n",
       "      <td>75.5</td>\n",
       "      <td>15.4</td>\n",
       "      <td>America</td>\n",
       "    </tr>\n",
       "    <tr>\n",
       "      <th>3</th>\n",
       "      <td>2975029.0</td>\n",
       "      <td>1.40</td>\n",
       "      <td>0.1</td>\n",
       "      <td>1.804106</td>\n",
       "      <td>25.35542</td>\n",
       "      <td>7383.0</td>\n",
       "      <td>132.8108</td>\n",
       "      <td>72.5</td>\n",
       "      <td>20.0</td>\n",
       "      <td>Europe &amp; Central Asia</td>\n",
       "    </tr>\n",
       "    <tr>\n",
       "      <th>4</th>\n",
       "      <td>21370348.0</td>\n",
       "      <td>1.96</td>\n",
       "      <td>0.1</td>\n",
       "      <td>18.016313</td>\n",
       "      <td>27.56373</td>\n",
       "      <td>41312.0</td>\n",
       "      <td>117.3755</td>\n",
       "      <td>81.5</td>\n",
       "      <td>5.2</td>\n",
       "      <td>East Asia &amp; Pacific</td>\n",
       "    </tr>\n",
       "  </tbody>\n",
       "</table>\n",
       "</div>"
      ],
      "text/plain": [
       "   population  fertility  HIV        CO2  BMI_male      GDP  BMI_female  life  \\\n",
       "0  34811059.0       2.73  0.1   3.328945  24.59620  12314.0    129.9049  75.3   \n",
       "1  19842251.0       6.43  2.0   1.474353  22.25083   7103.0    130.1247  58.3   \n",
       "2  40381860.0       2.24  0.5   4.785170  27.50170  14646.0    118.8915  75.5   \n",
       "3   2975029.0       1.40  0.1   1.804106  25.35542   7383.0    132.8108  72.5   \n",
       "4  21370348.0       1.96  0.1  18.016313  27.56373  41312.0    117.3755  81.5   \n",
       "\n",
       "   child_mortality                      Region  \n",
       "0             29.5  Middle East & North Africa  \n",
       "1            192.0          Sub-Saharan Africa  \n",
       "2             15.4                     America  \n",
       "3             20.0       Europe & Central Asia  \n",
       "4              5.2         East Asia & Pacific  "
      ]
     },
     "execution_count": 5,
     "metadata": {},
     "output_type": "execute_result"
    }
   ],
   "source": [
    "df.head()"
   ]
  },
  {
   "cell_type": "code",
   "execution_count": 6,
   "metadata": {},
   "outputs": [
    {
     "data": {
      "text/html": [
       "<div>\n",
       "<style>\n",
       "    .dataframe thead tr:only-child th {\n",
       "        text-align: right;\n",
       "    }\n",
       "\n",
       "    .dataframe thead th {\n",
       "        text-align: left;\n",
       "    }\n",
       "\n",
       "    .dataframe tbody tr th {\n",
       "        vertical-align: top;\n",
       "    }\n",
       "</style>\n",
       "<table border=\"1\" class=\"dataframe\">\n",
       "  <thead>\n",
       "    <tr style=\"text-align: right;\">\n",
       "      <th></th>\n",
       "      <th>population</th>\n",
       "      <th>fertility</th>\n",
       "      <th>HIV</th>\n",
       "      <th>CO2</th>\n",
       "      <th>BMI_male</th>\n",
       "      <th>GDP</th>\n",
       "      <th>BMI_female</th>\n",
       "      <th>life</th>\n",
       "      <th>child_mortality</th>\n",
       "      <th>Region</th>\n",
       "    </tr>\n",
       "  </thead>\n",
       "  <tbody>\n",
       "    <tr>\n",
       "      <th>5</th>\n",
       "      <td>8331465.0</td>\n",
       "      <td>1.41</td>\n",
       "      <td>0.3</td>\n",
       "      <td>8.18316</td>\n",
       "      <td>26.46741</td>\n",
       "      <td>43952.0</td>\n",
       "      <td>124.1394</td>\n",
       "      <td>80.4</td>\n",
       "      <td>4.6</td>\n",
       "      <td>Europe &amp; Central Asia</td>\n",
       "    </tr>\n",
       "  </tbody>\n",
       "</table>\n",
       "</div>"
      ],
      "text/plain": [
       "   population  fertility  HIV      CO2  BMI_male      GDP  BMI_female  life  \\\n",
       "5   8331465.0       1.41  0.3  8.18316  26.46741  43952.0    124.1394  80.4   \n",
       "\n",
       "   child_mortality                 Region  \n",
       "5              4.6  Europe & Central Asia  "
      ]
     },
     "execution_count": 6,
     "metadata": {},
     "output_type": "execute_result"
    }
   ],
   "source": [
    "df[5:6]"
   ]
  },
  {
   "cell_type": "code",
   "execution_count": 7,
   "metadata": {},
   "outputs": [
    {
     "data": {
      "text/plain": [
       "(139, 10)"
      ]
     },
     "execution_count": 7,
     "metadata": {},
     "output_type": "execute_result"
    }
   ],
   "source": [
    "df.shape # 139 observations, 10 features"
   ]
  },
  {
   "cell_type": "code",
   "execution_count": 8,
   "metadata": {
    "collapsed": true
   },
   "outputs": [],
   "source": [
    "fertility = df['fertility'].values\n",
    "life = df['life'].values"
   ]
  },
  {
   "cell_type": "code",
   "execution_count": 9,
   "metadata": {},
   "outputs": [
    {
     "data": {
      "text/plain": [
       "array([ 2.73,  6.43,  2.24,  1.4 ,  1.96])"
      ]
     },
     "execution_count": 9,
     "metadata": {},
     "output_type": "execute_result"
    }
   ],
   "source": [
    "fertility[0:5]"
   ]
  },
  {
   "cell_type": "code",
   "execution_count": 10,
   "metadata": {},
   "outputs": [
    {
     "data": {
      "text/plain": [
       "numpy.ndarray"
      ]
     },
     "execution_count": 10,
     "metadata": {},
     "output_type": "execute_result"
    }
   ],
   "source": [
    "type(fertility)"
   ]
  },
  {
   "cell_type": "code",
   "execution_count": 11,
   "metadata": {},
   "outputs": [
    {
     "data": {
      "image/png": "[encoded data removed]",
      "text/plain": [
       "<matplotlib.figure.Figure at 0x108710710>"
      ]
     },
     "metadata": {},
     "output_type": "display_data"
    }
   ],
   "source": [
    "# Draw a scatter plot that shows fertility vs. life expectancy\n",
    "# Note that lower fertility seems to be correlated with higher life expectancy\n",
    "# In any case, we can spot a linear relationship between the two features\n",
    "import matplotlib.pyplot as plt\n",
    "\n",
    "plt.scatter(fertility, life)\n",
    "plt.show()"
   ]
  },
  {
   "cell_type": "code",
   "execution_count": 12,
   "metadata": {
    "collapsed": true
   },
   "outputs": [],
   "source": [
    "# Let's try to fit a linear regression model based on just one feature, fertility, to predict life expectancy\n",
    "from sklearn.linear_model import LinearRegression\n",
    "\n",
    "X_fertility = (df['fertility'].values).reshape(-1, 1)\n",
    "y = df['life'].values\n",
    "\n",
    "reg = LinearRegression()\n",
    "\n",
    "# Let's create out prediction space\n",
    "prediction_space = np.linspace(min(X_fertility), max(X_fertility)).reshape(-1, 1)\n",
    "\n",
    "# Let's fit our data\n",
    "reg.fit(X_fertility, y)\n",
    "\n",
    "# Let's get predictions for our prediction space\n",
    "y_pred = reg.predict(prediction_space)"
   ]
  },
  {
   "cell_type": "code",
   "execution_count": 13,
   "metadata": {},
   "outputs": [
    {
     "name": "stdout",
     "output_type": "stream",
     "text": [
      "0.619244216774\n"
     ]
    }
   ],
   "source": [
    "r_square_score = reg.score(X_fertility, y)\n",
    "print(r_square_score)"
   ]
  },
  {
   "cell_type": "code",
   "execution_count": 14,
   "metadata": {},
   "outputs": [
    {
     "data": {
      "image/png": "[encoded data removed]",
      "text/plain": [
       "<matplotlib.figure.Figure at 0x10e087588>"
      ]
     },
     "metadata": {},
     "output_type": "display_data"
    }
   ],
   "source": [
    "# Let's superimpose the line that our linear regressor came up with on top of the training data\n",
    "plt.scatter(fertility, life, color=\"blue\")\n",
    "plt.plot(prediction_space, y_pred, color=\"red\", linewidth=3)\n",
    "plt.show()"
   ]
  },
  {
   "cell_type": "markdown",
   "metadata": {},
   "source": [
    "### Training and Testing Sets"
   ]
  },
  {
   "cell_type": "markdown",
   "metadata": {},
   "source": [
    "#### Convert column from non-numerical to numerical"
   ]
  },
  {
   "cell_type": "code",
   "execution_count": 15,
   "metadata": {},
   "outputs": [
    {
     "name": "stdout",
     "output_type": "stream",
     "text": [
      "['America', 'East Asia & Pacific', 'Europe & Central Asia', 'Middle East & North Africa', 'South Asia', 'Sub-Saharan Africa']\n",
      "[3 5 0 2 1 2 2 0 4 0 2 2 0 5 4 0 5 0 2 5 5 1 5 0 5 0 0 5 5 0 5 2 0 2 3 0 3\n",
      " 0 5 5 2 1 2 2 5 5 2 2 5 2 0 5 5 0 0 0 2 2 4 1 3 2 3 2 0 1 2 5 2 3 5 5 2 2\n",
      " 5 5 1 4 5 2 5 5 0 2 1 3 5 1 4 2 1 0 5 5 2 3 4 0 1 0 0 1 2 2 3 2 2 5 5 2 5\n",
      " 1 2 2 5 5 2 4 5 0 5 2 2 2 5 1 5 0 3 2 5 2 2 0 0 2 1 5 5]\n",
      "<class 'pandas.core.frame.DataFrame'>\n",
      "RangeIndex: 139 entries, 0 to 138\n",
      "Data columns (total 9 columns):\n",
      "population         139 non-null float64\n",
      "fertility          139 non-null float64\n",
      "HIV                139 non-null float64\n",
      "CO2                139 non-null float64\n",
      "BMI_male           139 non-null float64\n",
      "GDP                139 non-null float64\n",
      "BMI_female         139 non-null float64\n",
      "child_mortality    139 non-null float64\n",
      "Regions_Num        139 non-null int64\n",
      "dtypes: float64(8), int64(1)\n",
      "memory usage: 9.9 KB\n"
     ]
    }
   ],
   "source": [
    "# The data contains a non-numerical feature, \"Region\", that needs to be converted to numerical format \n",
    "# if we're going to feed it to our linear regressor.\n",
    "from sklearn import preprocessing\n",
    "\n",
    "le = preprocessing.LabelEncoder()\n",
    "\n",
    "X = df.drop(['life'], axis=1)\n",
    "regions = df['Region']\n",
    "le.fit(regions)\n",
    "print(list(le.classes_))\n",
    "regions_num = le.transform(regions)\n",
    "print(regions_num)\n",
    "\n",
    "X['Regions_Num'] = regions_num\n",
    "X = X.drop(['Region'], axis=1)\n",
    "X.info()"
   ]
  },
  {
   "cell_type": "code",
   "execution_count": 16,
   "metadata": {},
   "outputs": [
    {
     "name": "stdout",
     "output_type": "stream",
     "text": [
      "R^2: 0.8376147251418998\n",
      "Root Mean Squared Error: 3.2519310654111186\n"
     ]
    }
   ],
   "source": [
    "from sklearn.linear_model import LinearRegression\n",
    "from sklearn.metrics import mean_squared_error\n",
    "from sklearn.model_selection import train_test_split\n",
    "\n",
    "#X = df.drop(['life'], axis=1)\n",
    "y = df['life'].values\n",
    "\n",
    "X_train, X_test, y_train, y_test = train_test_split(X, y, test_size=0.3, random_state=42)\n",
    "\n",
    "reg_all = LinearRegression()\n",
    "reg_all.fit(X_train, y_train)\n",
    "\n",
    "y_pred = reg_all.predict(X_test)\n",
    "\n",
    "print(\"R^2: {}\".format(reg_all.score(X_test, y_test)))\n",
    "rmse = np.sqrt(mean_squared_error(y_test, y_pred))\n",
    "print(\"Root Mean Squared Error: {}\".format(rmse))"
   ]
  }
 ],
 "metadata": {
  "kernelspec": {
   "display_name": "Python 3",
   "language": "python",
   "name": "python3"
  },
  "language_info": {
   "codemirror_mode": {
    "name": "ipython",
    "version": 3
   },
   "file_extension": ".py",
   "mimetype": "text/x-python",
   "name": "python",
   "nbconvert_exporter": "python",
   "pygments_lexer": "ipython3",
   "version": "3.6.3"
  }
 },
 "nbformat": 4,
 "nbformat_minor": 2
}
