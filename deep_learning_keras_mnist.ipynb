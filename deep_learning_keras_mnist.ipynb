{
 "cells": [
  {
   "cell_type": "markdown",
   "metadata": {},
   "source": [
    "## MNIST digit recognition using a deep neural net with Keras\n",
    "\n",
    "Let's create a deep neural network using Keras and try to classify digits"
   ]
  },
  {
   "cell_type": "code",
   "execution_count": 3,
   "metadata": {},
   "outputs": [
    {
     "name": "stderr",
     "output_type": "stream",
     "text": [
      "Using TensorFlow backend.\n"
     ]
    }
   ],
   "source": [
    "import numpy as np\n",
    "import matplotlib.pyplot as plt\n",
    "\n",
    "from keras.datasets import mnist\n",
    "from keras.models import Sequential\n",
    "from keras.layers.core import Dense, Dropout, Activation\n",
    "from keras.utils import np_utils"
   ]
  },
  {
   "cell_type": "code",
   "execution_count": 4,
   "metadata": {},
   "outputs": [
    {
     "name": "stdout",
     "output_type": "stream",
     "text": [
      "Downloading data from https://s3.amazonaws.com/img-datasets/mnist.npz\n",
      "11493376/11490434 [==============================] - 170s 15us/step\n",
      "X_train original shape (60000, 28, 28)\n",
      "y_train original shape (60000,)\n"
     ]
    }
   ],
   "source": [
    "nb_classes = 10\n",
    "\n",
    "(X_train, y_train), (X_test, y_test) = mnist.load_data()\n",
    "print(\"X_train original shape\", X_train.shape)\n",
    "print(\"y_train original shape\", y_train.shape)"
   ]
  },
  {
   "cell_type": "markdown",
   "metadata": {},
   "source": [
    "Let's look at some examples of the training data"
   ]
  },
  {
   "cell_type": "code",
   "execution_count": 5,
   "metadata": {},
   "outputs": [
    {
     "data": {
      "image/png": "[encoded data removed]",
      "text/plain": [
       "<matplotlib.figure.Figure at 0x181dff1be0>"
      ]
     },
     "metadata": {},
     "output_type": "display_data"
    }
   ],
   "source": [
    "for i in range(9):\n",
    "    plt.subplot(3, 3, i+1)\n",
    "    plt.imshow(X_train[i], cmap='gray', interpolation='none')\n",
    "    plt.title(\"Class {}\".format(y_train[i]))\n",
    "plt.show()"
   ]
  },
  {
   "cell_type": "markdown",
   "metadata": {},
   "source": [
    "Format the data for training"
   ]
  },
  {
   "cell_type": "code",
   "execution_count": 6,
   "metadata": {},
   "outputs": [
    {
     "name": "stdout",
     "output_type": "stream",
     "text": [
      "Training matrix shape (60000, 784)\n",
      "Testing matrix shape (10000, 784)\n"
     ]
    }
   ],
   "source": [
    "X_train = X_train.reshape(60000, 784)\n",
    "X_test = X_test.reshape(10000, 784)\n",
    "X_train = X_train.astype('float32')\n",
    "X_test = X_test.astype('float32')\n",
    "X_train /= 255\n",
    "X_test /= 255\n",
    "print(\"Training matrix shape\", X_train.shape)\n",
    "print(\"Testing matrix shape\", X_test.shape)"
   ]
  },
  {
   "cell_type": "markdown",
   "metadata": {},
   "source": [
    "Modify the target matrices to be in the one-hot format<br/>\n",
    "\n",
    "0 -> [0, 0, 0, 0, 0, 0, 0, 0, 0, 0]<br>\n",
    "1 -> [0, 1, 0, 0, 0, 0, 0, 0, 0, 0]<br>\n",
    "2 -> [0, 0, 1, 0, 0, 0, 0, 0, 0, 0]<br>\n",
    "..."
   ]
  },
  {
   "cell_type": "code",
   "execution_count": 7,
   "metadata": {
    "collapsed": true
   },
   "outputs": [],
   "source": [
    "Y_train = np_utils.to_categorical(y_train, nb_classes)\n",
    "Y_test = np_utils.to_categorical(y_test, nb_classes)"
   ]
  },
  {
   "cell_type": "markdown",
   "metadata": {},
   "source": [
    "Let's create the network<br>\n",
    "    <img src=\"images/mnist_network.png\" alt=\"MNIST network\" title=\"MNIST network\" />"
   ]
  },
  {
   "cell_type": "code",
   "execution_count": 8,
   "metadata": {
    "collapsed": true
   },
   "outputs": [],
   "source": [
    "from keras.callbacks import EarlyStopping\n",
    "\n",
    "model = Sequential()\n",
    "model.add(Dense(512, activation='relu', input_shape=(784,)))\n",
    "model.add(Dropout(0.2)) # Dropout helps protect the model against overfitting\n",
    "model.add(Dense(512, activation='relu'))\n",
    "model.add(Dropout(0.2))\n",
    "model.add(Dense(10, activation='softmax'))"
   ]
  },
  {
   "cell_type": "code",
   "execution_count": 9,
   "metadata": {
    "collapsed": true
   },
   "outputs": [],
   "source": [
    "model.compile(optimizer='adam', loss='categorical_crossentropy', metrics=['accuracy'])"
   ]
  },
  {
   "cell_type": "code",
   "execution_count": 10,
   "metadata": {},
   "outputs": [
    {
     "name": "stdout",
     "output_type": "stream",
     "text": [
      "Train on 60000 samples, validate on 10000 samples\n",
      "Epoch 1/30\n",
      "60000/60000 [==============================] - 7s 121us/step - loss: 0.2523 - acc: 0.9234 - val_loss: 0.1047 - val_acc: 0.9677\n",
      "Epoch 2/30\n",
      "60000/60000 [==============================] - 6s 105us/step - loss: 0.0984 - acc: 0.9697 - val_loss: 0.0891 - val_acc: 0.9715\n",
      "Epoch 3/30\n",
      "60000/60000 [==============================] - 7s 108us/step - loss: 0.0709 - acc: 0.9768 - val_loss: 0.0666 - val_acc: 0.9807\n",
      "Epoch 4/30\n",
      "60000/60000 [==============================] - 7s 111us/step - loss: 0.0569 - acc: 0.9822 - val_loss: 0.0870 - val_acc: 0.9748\n",
      "Epoch 5/30\n",
      "60000/60000 [==============================] - 6s 106us/step - loss: 0.0464 - acc: 0.9843 - val_loss: 0.0648 - val_acc: 0.9798\n",
      "Epoch 6/30\n",
      "60000/60000 [==============================] - 7s 110us/step - loss: 0.0389 - acc: 0.9879 - val_loss: 0.0639 - val_acc: 0.9800\n",
      "Epoch 7/30\n",
      "60000/60000 [==============================] - 6s 107us/step - loss: 0.0342 - acc: 0.9887 - val_loss: 0.0613 - val_acc: 0.9819\n",
      "Epoch 8/30\n",
      "60000/60000 [==============================] - 6s 107us/step - loss: 0.0288 - acc: 0.9901 - val_loss: 0.0704 - val_acc: 0.9811\n",
      "Epoch 9/30\n",
      "60000/60000 [==============================] - 7s 112us/step - loss: 0.0260 - acc: 0.9916 - val_loss: 0.0759 - val_acc: 0.9802\n"
     ]
    },
    {
     "data": {
      "text/plain": [
       "<keras.callbacks.History at 0x1835536080>"
      ]
     },
     "execution_count": 10,
     "metadata": {},
     "output_type": "execute_result"
    }
   ],
   "source": [
    "early_stopping_monitor = EarlyStopping(patience=2)\n",
    "\n",
    "model.fit(X_train, Y_train, batch_size=128, epochs=30, verbose=1, validation_data=(X_test, Y_test), callbacks=[early_stopping_monitor])"
   ]
  },
  {
   "cell_type": "markdown",
   "metadata": {},
   "source": [
    "Evaluate the performance"
   ]
  },
  {
   "cell_type": "code",
   "execution_count": 11,
   "metadata": {},
   "outputs": [
    {
     "name": "stdout",
     "output_type": "stream",
     "text": [
      "Test score: 0.0758742724517\n",
      "Test accuracy 0.9802\n"
     ]
    }
   ],
   "source": [
    "score = model.evaluate(X_test, Y_test, verbose=0)\n",
    "\n",
    "print('Test score:', score[0])\n",
    "print('Test accuracy', score[1])"
   ]
  },
  {
   "cell_type": "markdown",
   "metadata": {
    "collapsed": true
   },
   "source": [
    "Inspect the output"
   ]
  },
  {
   "cell_type": "code",
   "execution_count": 12,
   "metadata": {},
   "outputs": [
    {
     "data": {
      "text/plain": [
       "array([  4.37350199e-12,   1.17817924e-08,   8.45822745e-10,\n",
       "         8.92848961e-10,   3.89407707e-11,   8.16641546e-12,\n",
       "         4.37683574e-14,   9.99999523e-01,   1.65709096e-11,\n",
       "         4.25753854e-07], dtype=float32)"
      ]
     },
     "execution_count": 12,
     "metadata": {},
     "output_type": "execute_result"
    }
   ],
   "source": [
    "predicted_classes = model.predict(X_test)\n",
    "predicted_classes[0]"
   ]
  },
  {
   "cell_type": "code",
   "execution_count": 13,
   "metadata": {
    "collapsed": true
   },
   "outputs": [],
   "source": [
    "predictions = np.argmax(predicted_classes, axis=1)"
   ]
  },
  {
   "cell_type": "code",
   "execution_count": 14,
   "metadata": {},
   "outputs": [
    {
     "data": {
      "text/plain": [
       "(10000,)"
      ]
     },
     "execution_count": 14,
     "metadata": {},
     "output_type": "execute_result"
    }
   ],
   "source": [
    "predictions.shape"
   ]
  },
  {
   "cell_type": "code",
   "execution_count": 15,
   "metadata": {},
   "outputs": [
    {
     "data": {
      "text/plain": [
       "9"
      ]
     },
     "execution_count": 15,
     "metadata": {},
     "output_type": "execute_result"
    }
   ],
   "source": [
    "predictions[501]"
   ]
  },
  {
   "cell_type": "code",
   "execution_count": 16,
   "metadata": {},
   "outputs": [
    {
     "data": {
      "image/png": "[encoded data removed]",
      "text/plain": [
       "<matplotlib.figure.Figure at 0x182759c518>"
      ]
     },
     "metadata": {},
     "output_type": "display_data"
    }
   ],
   "source": [
    "plt.imshow(X_test[501].reshape(28, 28), cmap='gray', interpolation='none')\n",
    "plt.show()"
   ]
  },
  {
   "cell_type": "code",
   "execution_count": 17,
   "metadata": {},
   "outputs": [
    {
     "data": {
      "text/plain": [
       "9"
      ]
     },
     "execution_count": 17,
     "metadata": {},
     "output_type": "execute_result"
    }
   ],
   "source": [
    "y_test[501]"
   ]
  },
  {
   "cell_type": "code",
   "execution_count": 18,
   "metadata": {
    "collapsed": true
   },
   "outputs": [],
   "source": [
    "correct_indices = (predictions == y_test)\n",
    "incorrect_indices = (predictions != y_test)"
   ]
  },
  {
   "cell_type": "code",
   "execution_count": 19,
   "metadata": {},
   "outputs": [
    {
     "data": {
      "text/plain": [
       "array([ True,  True,  True, ...,  True,  True,  True], dtype=bool)"
      ]
     },
     "execution_count": 19,
     "metadata": {},
     "output_type": "execute_result"
    }
   ],
   "source": [
    "correct_indices"
   ]
  },
  {
   "cell_type": "code",
   "execution_count": 20,
   "metadata": {},
   "outputs": [
    {
     "data": {
      "text/plain": [
       "array([False, False, False, False, False, False, False, False, False,\n",
       "       False, False, False, False, False, False,  True, False, False,\n",
       "       False, False, False, False, False, False, False, False, False,\n",
       "       False, False, False, False, False, False, False, False, False,\n",
       "       False, False, False, False, False, False, False, False, False,\n",
       "       False, False, False, False,  True, False,  True, False, False,\n",
       "       False, False, False, False, False, False, False, False, False,\n",
       "       False, False, False, False, False, False, False, False, False,\n",
       "       False, False, False, False, False, False, False, False, False,\n",
       "       False, False, False, False, False, False, False, False, False,\n",
       "       False, False, False, False, False, False, False, False, False, False], dtype=bool)"
      ]
     },
     "execution_count": 20,
     "metadata": {},
     "output_type": "execute_result"
    }
   ],
   "source": [
    "incorrect_indices[100:200]"
   ]
  },
  {
   "cell_type": "code",
   "execution_count": 21,
   "metadata": {},
   "outputs": [
    {
     "data": {
      "text/plain": [
       "array([7, 2, 1, ..., 4, 5, 6])"
      ]
     },
     "execution_count": 21,
     "metadata": {},
     "output_type": "execute_result"
    }
   ],
   "source": [
    "predictions"
   ]
  },
  {
   "cell_type": "code",
   "execution_count": 22,
   "metadata": {},
   "outputs": [
    {
     "name": "stdout",
     "output_type": "stream",
     "text": [
      "Accuracy on the test samples 0.9802\n"
     ]
    }
   ],
   "source": [
    "print(\"Accuracy on the test samples\", np.count_nonzero(correct_indices)/len(correct_indices))"
   ]
  },
  {
   "cell_type": "code",
   "execution_count": 23,
   "metadata": {},
   "outputs": [
    {
     "data": {
      "text/plain": [
       "array([7, 2, 1, ..., 4, 5, 6])"
      ]
     },
     "execution_count": 23,
     "metadata": {},
     "output_type": "execute_result"
    }
   ],
   "source": [
    "predictions[correct_indices]"
   ]
  },
  {
   "cell_type": "code",
   "execution_count": 24,
   "metadata": {},
   "outputs": [
    {
     "data": {
      "text/plain": [
       "array([7, 2, 1, ..., 4, 5, 6], dtype=uint8)"
      ]
     },
     "execution_count": 24,
     "metadata": {},
     "output_type": "execute_result"
    }
   ],
   "source": [
    "y_test[correct_indices]"
   ]
  },
  {
   "cell_type": "code",
   "execution_count": 25,
   "metadata": {},
   "outputs": [
    {
     "data": {
      "text/plain": [
       "array([9, 9, 8, 2, 7, 3, 7, 0, 2, 7, 2, 7, 8, 1, 3, 8, 7, 2, 7, 9, 4, 5, 8,\n",
       "       1, 5, 4, 2, 9, 3, 1, 7, 3, 3, 4, 3, 3, 9, 7, 6, 6, 7, 3, 4, 7, 7, 8,\n",
       "       4, 3, 4, 8, 9, 9, 9, 1, 7, 4, 9, 1, 0, 0, 3, 1, 9, 4, 4, 4, 3, 1, 7,\n",
       "       1, 4, 8, 7, 3, 3, 4, 7, 2, 7, 5, 5, 7, 9, 9, 0, 7, 1, 4, 0, 5, 3, 4,\n",
       "       4, 8, 8, 0, 4, 4, 1, 6, 1, 4, 8, 4, 1, 9, 3, 3, 4, 7, 7, 9, 7, 8, 3,\n",
       "       3, 7, 7, 7, 3, 4, 4, 7, 7, 5, 8, 1, 7, 1, 3, 4, 4, 8, 4, 8, 9, 2, 7,\n",
       "       7, 7, 4, 3, 3, 9, 3, 8, 3, 8, 9, 9, 3, 9, 9, 3, 4, 9, 2, 7, 7, 7, 7,\n",
       "       5, 7, 4, 4, 7, 6, 8, 3, 1, 2, 8, 8, 9, 9, 4, 6, 7, 4, 9, 2, 2, 2, 3,\n",
       "       4, 1, 7, 8, 6, 0, 6, 0, 1, 4, 7, 7, 9, 8])"
      ]
     },
     "execution_count": 25,
     "metadata": {},
     "output_type": "execute_result"
    }
   ],
   "source": [
    "predictions[incorrect_indices]"
   ]
  },
  {
   "cell_type": "code",
   "execution_count": 26,
   "metadata": {},
   "outputs": [
    {
     "data": {
      "text/plain": [
       "array([4, 2, 9, 4, 2, 5, 3, 6, 8, 3, 8, 2, 1, 2, 5, 5, 8, 0, 2, 8, 5, 6, 6,\n",
       "       6, 6, 9, 7, 4, 9, 7, 5, 8, 5, 8, 5, 5, 7, 8, 4, 2, 3, 9, 7, 2, 0, 2,\n",
       "       6, 8, 9, 7, 8, 4, 7, 8, 3, 6, 4, 6, 8, 9, 5, 9, 3, 6, 9, 2, 5, 7, 2,\n",
       "       6, 9, 5, 3, 5, 5, 9, 4, 3, 9, 3, 6, 2, 5, 8, 6, 3, 9, 6, 5, 8, 9, 5,\n",
       "       8, 5, 7, 2, 2, 0, 7, 4, 7, 9, 9, 7, 7, 0, 8, 9, 9, 9, 2, 7, 9, 2, 5,\n",
       "       5, 2, 9, 3, 5, 9, 9, 8, 2, 6, 6, 6, 8, 9, 8, 6, 9, 0, 8, 3, 7, 4, 9,\n",
       "       3, 9, 9, 5, 5, 4, 5, 3, 5, 3, 3, 3, 5, 3, 3, 9, 9, 8, 6, 9, 0, 8, 8,\n",
       "       0, 8, 9, 6, 8, 0, 4, 5, 4, 3, 5, 2, 3, 3, 6, 0, 9, 9, 4, 7, 7, 7, 5,\n",
       "       9, 0, 2, 2, 5, 4, 5, 5, 4, 9, 2, 2, 3, 5], dtype=uint8)"
      ]
     },
     "execution_count": 26,
     "metadata": {},
     "output_type": "execute_result"
    }
   ],
   "source": [
    "y_test[incorrect_indices]"
   ]
  },
  {
   "cell_type": "code",
   "execution_count": 27,
   "metadata": {},
   "outputs": [
    {
     "data": {
      "image/png": "[encoded data removed]",
      "text/plain": [
       "<matplotlib.figure.Figure at 0x1835a99748>"
      ]
     },
     "metadata": {},
     "output_type": "display_data"
    }
   ],
   "source": [
    "plt.rcParams['figure.figsize'] = (10,10) # Make the figures a bit bigger\n",
    "\n",
    "for i, enum in enumerate(zip(predictions[correct_indices][:9], y_test[correct_indices][:9], X_test[correct_indices][:9])):\n",
    "    plt.subplot(3, 3, i+1)\n",
    "    plt.imshow(enum[2].reshape(28, 28), cmap='gray', interpolation='none')\n",
    "    plt.title(\"Predicted {}, Actual {}\".format(enum[0],enum[1]))\n",
    "plt.show()"
   ]
  },
  {
   "cell_type": "code",
   "execution_count": 28,
   "metadata": {},
   "outputs": [
    {
     "data": {
      "image/png": "[encoded data removed]",
      "text/plain": [
       "<matplotlib.figure.Figure at 0x18359b0e48>"
      ]
     },
     "metadata": {},
     "output_type": "display_data"
    }
   ],
   "source": [
    "plt.rcParams['figure.figsize'] = (10,10) # Make the figures a bit bigger\n",
    "\n",
    "for i, enum in enumerate(zip(predictions[incorrect_indices][:9], y_test[incorrect_indices][:9], X_test[incorrect_indices][:9])):\n",
    "    plt.subplot(3, 3, i+1)\n",
    "    plt.imshow(enum[2].reshape(28, 28), cmap='gray', interpolation='none')\n",
    "    plt.title(\"Predicted {}, Actual {}\".format(enum[0],enum[1]))\n",
    "plt.show()"
   ]
  }
 ],
 "metadata": {
  "kernelspec": {
   "display_name": "Python 3",
   "language": "python",
   "name": "python3"
  },
  "language_info": {
   "codemirror_mode": {
    "name": "ipython",
    "version": 3
   },
   "file_extension": ".py",
   "mimetype": "text/x-python",
   "name": "python",
   "nbconvert_exporter": "python",
   "pygments_lexer": "ipython3",
   "version": "3.6.3"
  }
 },
 "nbformat": 4,
 "nbformat_minor": 2
}
